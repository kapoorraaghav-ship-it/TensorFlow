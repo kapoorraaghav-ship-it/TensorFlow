{
  "nbformat": 4,
  "nbformat_minor": 0,
  "metadata": {
    "colab": {
      "provenance": [],
      "authorship_tag": "ABX9TyMSoNc0vQ/Nix68xETWqtIZ",
      "include_colab_link": true
    },
    "kernelspec": {
      "name": "python3",
      "display_name": "Python 3"
    },
    "language_info": {
      "name": "python"
    }
  },
  "cells": [
    {
      "cell_type": "markdown",
      "metadata": {
        "id": "view-in-github",
        "colab_type": "text"
      },
      "source": [
        "<a href=\"https://colab.research.google.com/github/kapoorraaghav-ship-it/TensorFlow/blob/main/tensorflow_01.ipynb\" target=\"_parent\"><img src=\"https://colab.research.google.com/assets/colab-badge.svg\" alt=\"Open In Colab\"/></a>"
      ]
    },
    {
      "cell_type": "code",
      "execution_count": 1,
      "metadata": {
        "colab": {
          "base_uri": "https://localhost:8080/"
        },
        "id": "oICrk1uZRS1h",
        "outputId": "381744bb-a8f4-440d-da3a-10480c4d17d6"
      },
      "outputs": [
        {
          "output_type": "stream",
          "name": "stdout",
          "text": [
            "2.18.0\n"
          ]
        }
      ],
      "source": [
        "import tensorflow as tf\n",
        "print(tf.__version__)"
      ]
    },
    {
      "cell_type": "code",
      "source": [
        "#creating a tensor with tf.constant()\n",
        "scalar = tf.constant(7)\n",
        "scalar"
      ],
      "metadata": {
        "colab": {
          "base_uri": "https://localhost:8080/"
        },
        "id": "BmYIz2xnTlcV",
        "outputId": "f6f45fc3-13e1-41af-db45-d404cca300c5"
      },
      "execution_count": 2,
      "outputs": [
        {
          "output_type": "execute_result",
          "data": {
            "text/plain": [
              "<tf.Tensor: shape=(), dtype=int32, numpy=7>"
            ]
          },
          "metadata": {},
          "execution_count": 2
        }
      ]
    },
    {
      "cell_type": "code",
      "source": [
        "#ndim stands for no of dimensions\n",
        "scalar.ndim"
      ],
      "metadata": {
        "colab": {
          "base_uri": "https://localhost:8080/"
        },
        "id": "NE3vGK18RXyT",
        "outputId": "b5776f66-1f59-43e7-dca4-426fcfd4b191"
      },
      "execution_count": 3,
      "outputs": [
        {
          "output_type": "execute_result",
          "data": {
            "text/plain": [
              "0"
            ]
          },
          "metadata": {},
          "execution_count": 3
        }
      ]
    },
    {
      "cell_type": "code",
      "source": [
        "vector = tf.constant([10,10])\n",
        "vector"
      ],
      "metadata": {
        "colab": {
          "base_uri": "https://localhost:8080/"
        },
        "id": "0dxxrwcNY52I",
        "outputId": "41700403-5d82-4983-8e3f-09ea0a984ae7"
      },
      "execution_count": 4,
      "outputs": [
        {
          "output_type": "execute_result",
          "data": {
            "text/plain": [
              "<tf.Tensor: shape=(2,), dtype=int32, numpy=array([10, 10], dtype=int32)>"
            ]
          },
          "metadata": {},
          "execution_count": 4
        }
      ]
    },
    {
      "cell_type": "code",
      "source": [
        "vector.ndim"
      ],
      "metadata": {
        "colab": {
          "base_uri": "https://localhost:8080/"
        },
        "id": "kNyLu681ZMZe",
        "outputId": "df1c5f2a-ae6f-4086-e629-2d4c4dd4b41b"
      },
      "execution_count": 5,
      "outputs": [
        {
          "output_type": "execute_result",
          "data": {
            "text/plain": [
              "1"
            ]
          },
          "metadata": {},
          "execution_count": 5
        }
      ]
    },
    {
      "cell_type": "code",
      "source": [
        "#matrix with more than 1 dimension\n",
        "matrix = tf.constant([[10,7],\n",
        "                     [7,10]])\n",
        "matrix"
      ],
      "metadata": {
        "colab": {
          "base_uri": "https://localhost:8080/"
        },
        "id": "1bDkE3hFZMit",
        "outputId": "da576e29-a132-40b7-a19b-b4a6bf75119b"
      },
      "execution_count": 6,
      "outputs": [
        {
          "output_type": "execute_result",
          "data": {
            "text/plain": [
              "<tf.Tensor: shape=(2, 2), dtype=int32, numpy=\n",
              "array([[10,  7],\n",
              "       [ 7, 10]], dtype=int32)>"
            ]
          },
          "metadata": {},
          "execution_count": 6
        }
      ]
    },
    {
      "cell_type": "code",
      "source": [
        "matrix_1 = tf.constant([[10,7,2],\n",
        "                        [10,9,8],\n",
        "                        [10,89,34]])\n",
        "matrix_1"
      ],
      "metadata": {
        "colab": {
          "base_uri": "https://localhost:8080/"
        },
        "id": "71sW9DOakKon",
        "outputId": "3390414b-cf21-4d79-a5da-f2ce084bb9c9"
      },
      "execution_count": 7,
      "outputs": [
        {
          "output_type": "execute_result",
          "data": {
            "text/plain": [
              "<tf.Tensor: shape=(3, 3), dtype=int32, numpy=\n",
              "array([[10,  7,  2],\n",
              "       [10,  9,  8],\n",
              "       [10, 89, 34]], dtype=int32)>"
            ]
          },
          "metadata": {},
          "execution_count": 7
        }
      ]
    },
    {
      "cell_type": "code",
      "source": [
        "matrix_1.ndim"
      ],
      "metadata": {
        "colab": {
          "base_uri": "https://localhost:8080/"
        },
        "id": "nz21EXTCkWg_",
        "outputId": "321b5a2f-389c-4bf1-c387-23ce9f59f9f3"
      },
      "execution_count": 8,
      "outputs": [
        {
          "output_type": "execute_result",
          "data": {
            "text/plain": [
              "2"
            ]
          },
          "metadata": {},
          "execution_count": 8
        }
      ]
    },
    {
      "cell_type": "code",
      "source": [
        "matrix_2 = tf.constant([[10.,7.],\n",
        "                        [3.,2,],\n",
        "                        [8.,9.]],dtype=tf.float16)# datatype  with dtype parameter\n",
        "                        #higer precision more exatct no of matrix are stored\n",
        "matrix_2"
      ],
      "metadata": {
        "colab": {
          "base_uri": "https://localhost:8080/"
        },
        "id": "-KwkcK6SkqNQ",
        "outputId": "c3be887f-06a6-49b0-a5a8-0f6e5948af47"
      },
      "execution_count": 9,
      "outputs": [
        {
          "output_type": "execute_result",
          "data": {
            "text/plain": [
              "<tf.Tensor: shape=(3, 2), dtype=float16, numpy=\n",
              "array([[10.,  7.],\n",
              "       [ 3.,  2.],\n",
              "       [ 8.,  9.]], dtype=float16)>"
            ]
          },
          "metadata": {},
          "execution_count": 9
        }
      ]
    },
    {
      "cell_type": "code",
      "source": [
        "matrix_2.ndim"
      ],
      "metadata": {
        "colab": {
          "base_uri": "https://localhost:8080/"
        },
        "id": "8al-HyholU4L",
        "outputId": "b98bad7c-b1b2-469c-a9b9-03f760f153d5"
      },
      "execution_count": 10,
      "outputs": [
        {
          "output_type": "execute_result",
          "data": {
            "text/plain": [
              "2"
            ]
          },
          "metadata": {},
          "execution_count": 10
        }
      ]
    },
    {
      "cell_type": "code",
      "source": [
        "tensor = tf.constant([[[1,2,3],\n",
        "                       [4,5,6]],\n",
        "                     [[7,8,9],\n",
        "                      [10,11,12]],\n",
        "                      [[13,14,15],\n",
        "                       [16,17,18]]])\n",
        "tensor"
      ],
      "metadata": {
        "colab": {
          "base_uri": "https://localhost:8080/"
        },
        "id": "Q5FAN4ztlkog",
        "outputId": "a920e10e-1b7b-4e80-9c55-59a789a33e69"
      },
      "execution_count": 11,
      "outputs": [
        {
          "output_type": "execute_result",
          "data": {
            "text/plain": [
              "<tf.Tensor: shape=(3, 2, 3), dtype=int32, numpy=\n",
              "array([[[ 1,  2,  3],\n",
              "        [ 4,  5,  6]],\n",
              "\n",
              "       [[ 7,  8,  9],\n",
              "        [10, 11, 12]],\n",
              "\n",
              "       [[13, 14, 15],\n",
              "        [16, 17, 18]]], dtype=int32)>"
            ]
          },
          "metadata": {},
          "execution_count": 11
        }
      ]
    },
    {
      "cell_type": "code",
      "source": [
        "tensor.ndim"
      ],
      "metadata": {
        "colab": {
          "base_uri": "https://localhost:8080/"
        },
        "id": "6cbQUCRzohI0",
        "outputId": "ed24cd71-5380-4144-b62d-c9b08c6e672a"
      },
      "execution_count": 12,
      "outputs": [
        {
          "output_type": "execute_result",
          "data": {
            "text/plain": [
              "3"
            ]
          },
          "metadata": {},
          "execution_count": 12
        }
      ]
    },
    {
      "cell_type": "code",
      "source": [
        "tensor_2 = tf.constant([[[1,2,3,],\n",
        "                       [4,5,6]],\n",
        "                     [[7,8,9],\n",
        "                      [10,11,12]],\n",
        "                      [[13,14,15],\n",
        "                       [16,17,18]],\n",
        "                        [[19,20,21],\n",
        "                        [22,23,24]]])\n",
        "\n",
        "tensor_2"
      ],
      "metadata": {
        "colab": {
          "base_uri": "https://localhost:8080/"
        },
        "id": "lUzTCByCorqa",
        "outputId": "8c6ff132-6c09-4cbb-d32c-760d5a46c477"
      },
      "execution_count": 13,
      "outputs": [
        {
          "output_type": "execute_result",
          "data": {
            "text/plain": [
              "<tf.Tensor: shape=(4, 2, 3), dtype=int32, numpy=\n",
              "array([[[ 1,  2,  3],\n",
              "        [ 4,  5,  6]],\n",
              "\n",
              "       [[ 7,  8,  9],\n",
              "        [10, 11, 12]],\n",
              "\n",
              "       [[13, 14, 15],\n",
              "        [16, 17, 18]],\n",
              "\n",
              "       [[19, 20, 21],\n",
              "        [22, 23, 24]]], dtype=int32)>"
            ]
          },
          "metadata": {},
          "execution_count": 13
        }
      ]
    },
    {
      "cell_type": "code",
      "source": [
        "tensor_2.ndim"
      ],
      "metadata": {
        "colab": {
          "base_uri": "https://localhost:8080/"
        },
        "id": "XL-3KmrYqWw8",
        "outputId": "dbcd45db-97b7-410b-def5-2f406d025ac4"
      },
      "execution_count": 14,
      "outputs": [
        {
          "output_type": "execute_result",
          "data": {
            "text/plain": [
              "3"
            ]
          },
          "metadata": {},
          "execution_count": 14
        }
      ]
    },
    {
      "cell_type": "code",
      "source": [
        "#creating same tensor as above using tf.variable\n",
        "changeable_tensor = tf.Variable([10,7])\n",
        "unchangeable_tensor = tf.constant([10,7])\n",
        "changeable_tensor,unchangeable_tensor"
      ],
      "metadata": {
        "colab": {
          "base_uri": "https://localhost:8080/"
        },
        "id": "913YyDtHduGL",
        "outputId": "1daaa721-e01f-4610-906d-3c3f7cc0ba19"
      },
      "execution_count": 15,
      "outputs": [
        {
          "output_type": "execute_result",
          "data": {
            "text/plain": [
              "(<tf.Variable 'Variable:0' shape=(2,) dtype=int32, numpy=array([10,  7], dtype=int32)>,\n",
              " <tf.Tensor: shape=(2,), dtype=int32, numpy=array([10,  7], dtype=int32)>)"
            ]
          },
          "metadata": {},
          "execution_count": 15
        }
      ]
    },
    {
      "cell_type": "code",
      "source": [
        "changeable_tensor[0].assign(7)#changing the value of pre-given tensor\n",
        "changeable_tensor"
      ],
      "metadata": {
        "colab": {
          "base_uri": "https://localhost:8080/"
        },
        "id": "yjvXQXzsgTlr",
        "outputId": "3f78761a-c26c-4f0d-80e7-b86a733b6be0"
      },
      "execution_count": 16,
      "outputs": [
        {
          "output_type": "execute_result",
          "data": {
            "text/plain": [
              "<tf.Variable 'Variable:0' shape=(2,) dtype=int32, numpy=array([7, 7], dtype=int32)>"
            ]
          },
          "metadata": {},
          "execution_count": 16
        }
      ]
    },
    {
      "cell_type": "code",
      "source": [
        "changeable_tensor[1].assign(9)#experiment\n",
        "changeable_tensor"
      ],
      "metadata": {
        "colab": {
          "base_uri": "https://localhost:8080/"
        },
        "id": "Jq9gHj1Agjxt",
        "outputId": "551ce067-26dc-429a-980a-b61235db7aed"
      },
      "execution_count": 17,
      "outputs": [
        {
          "output_type": "execute_result",
          "data": {
            "text/plain": [
              "<tf.Variable 'Variable:0' shape=(2,) dtype=int32, numpy=array([7, 9], dtype=int32)>"
            ]
          },
          "metadata": {},
          "execution_count": 17
        }
      ]
    },
    {
      "cell_type": "code",
      "source": [
        "'''unchangeable_tensor[0].assign(8)\n",
        "unchangeable_tensor''' #bcoz it is constant so we cannot change it in the future like we did with variable tensor this will be done at backend of tensorflow we do not have to do it manually"
      ],
      "metadata": {
        "colab": {
          "base_uri": "https://localhost:8080/",
          "height": 36
        },
        "id": "TmC9OSAWgvR6",
        "outputId": "0e7f13bc-ed9c-427e-8d8c-e6febaf6bdd3"
      },
      "execution_count": 18,
      "outputs": [
        {
          "output_type": "execute_result",
          "data": {
            "text/plain": [
              "'unchangeable_tensor[0].assign(8)\\nunchangeable_tensor'"
            ],
            "application/vnd.google.colaboratory.intrinsic+json": {
              "type": "string"
            }
          },
          "metadata": {},
          "execution_count": 18
        }
      ]
    },
    {
      "cell_type": "code",
      "source": [
        "#creating random tensor\n",
        "random_1 = tf.random.Generator.from_seed(42)#\n",
        "random_1 = random_1.normal(shape=(3,2))\n",
        "random_2 = tf.random.Generator.from_seed(42)#\n",
        "random_2 = random_2.normal(shape=(3,2))\n",
        "random_1,random_2,random_1==random_2"
      ],
      "metadata": {
        "colab": {
          "base_uri": "https://localhost:8080/"
        },
        "id": "RBrpl_FMhInW",
        "outputId": "7831605a-032d-46bc-d355-c74de3c284e0"
      },
      "execution_count": 19,
      "outputs": [
        {
          "output_type": "execute_result",
          "data": {
            "text/plain": [
              "(<tf.Tensor: shape=(3, 2), dtype=float32, numpy=\n",
              " array([[-0.7565803 , -0.06854702],\n",
              "        [ 0.07595026, -1.2573844 ],\n",
              "        [-0.23193763, -1.8107855 ]], dtype=float32)>,\n",
              " <tf.Tensor: shape=(3, 2), dtype=float32, numpy=\n",
              " array([[-0.7565803 , -0.06854702],\n",
              "        [ 0.07595026, -1.2573844 ],\n",
              "        [-0.23193763, -1.8107855 ]], dtype=float32)>,\n",
              " <tf.Tensor: shape=(3, 2), dtype=bool, numpy=\n",
              " array([[ True,  True],\n",
              "        [ True,  True],\n",
              "        [ True,  True]])>)"
            ]
          },
          "metadata": {},
          "execution_count": 19
        }
      ]
    },
    {
      "cell_type": "code",
      "source": [
        "#shuffle a tensor\n",
        "not_shuffled = tf.constant([[10,7],\n",
        "                            [3,4],\n",
        "                            [9,4]])\n",
        "#shuffling not_shuffled\n",
        "tf.random.shuffle(not_shuffled)"
      ],
      "metadata": {
        "colab": {
          "base_uri": "https://localhost:8080/"
        },
        "id": "DRs1gAGBmUhv",
        "outputId": "ba7df80b-11c0-4139-8de9-854df8dd9ffc"
      },
      "execution_count": 20,
      "outputs": [
        {
          "output_type": "execute_result",
          "data": {
            "text/plain": [
              "<tf.Tensor: shape=(3, 2), dtype=int32, numpy=\n",
              "array([[ 3,  4],\n",
              "       [ 9,  4],\n",
              "       [10,  7]], dtype=int32)>"
            ]
          },
          "metadata": {},
          "execution_count": 20
        }
      ]
    },
    {
      "cell_type": "code",
      "source": [
        "not_shuffled"
      ],
      "metadata": {
        "colab": {
          "base_uri": "https://localhost:8080/"
        },
        "id": "0qsc2ISumUkq",
        "outputId": "d6f6d6da-03ca-4870-b0c1-6a284cd8c429"
      },
      "execution_count": 21,
      "outputs": [
        {
          "output_type": "execute_result",
          "data": {
            "text/plain": [
              "<tf.Tensor: shape=(3, 2), dtype=int32, numpy=\n",
              "array([[10,  7],\n",
              "       [ 3,  4],\n",
              "       [ 9,  4]], dtype=int32)>"
            ]
          },
          "metadata": {},
          "execution_count": 21
        }
      ]
    },
    {
      "cell_type": "code",
      "source": [
        "tf.random.shuffle(not_shuffled,seed=42)"
      ],
      "metadata": {
        "colab": {
          "base_uri": "https://localhost:8080/"
        },
        "id": "KTookmMnmUoO",
        "outputId": "ceef3777-1334-4e1b-a552-e6561d8ce091"
      },
      "execution_count": 22,
      "outputs": [
        {
          "output_type": "execute_result",
          "data": {
            "text/plain": [
              "<tf.Tensor: shape=(3, 2), dtype=int32, numpy=\n",
              "array([[ 9,  4],\n",
              "       [ 3,  4],\n",
              "       [10,  7]], dtype=int32)>"
            ]
          },
          "metadata": {},
          "execution_count": 22
        }
      ]
    },
    {
      "cell_type": "code",
      "source": [
        "tf.random.set_seed(42)#global level seed\n",
        "tf.random.shuffle(not_shuffled,seed=42)#operational level seed\n"
      ],
      "metadata": {
        "colab": {
          "base_uri": "https://localhost:8080/"
        },
        "id": "SIzMORnbmUrE",
        "outputId": "4069a105-cde4-44f1-c011-242698fd6b97"
      },
      "execution_count": 23,
      "outputs": [
        {
          "output_type": "execute_result",
          "data": {
            "text/plain": [
              "<tf.Tensor: shape=(3, 2), dtype=int32, numpy=\n",
              "array([[10,  7],\n",
              "       [ 3,  4],\n",
              "       [ 9,  4]], dtype=int32)>"
            ]
          },
          "metadata": {},
          "execution_count": 23
        }
      ]
    },
    {
      "cell_type": "code",
      "source": [
        "#other ways to make tensors\n",
        "tf.ones([10,7]) #tensor just containing ones\n",
        "#first wala will be vertical and second will decide horizontal"
      ],
      "metadata": {
        "colab": {
          "base_uri": "https://localhost:8080/"
        },
        "id": "PImih9GdmUzR",
        "outputId": "a397505a-ce6d-4461-d68a-4bbb927cfad7"
      },
      "execution_count": 24,
      "outputs": [
        {
          "output_type": "execute_result",
          "data": {
            "text/plain": [
              "<tf.Tensor: shape=(10, 7), dtype=float32, numpy=\n",
              "array([[1., 1., 1., 1., 1., 1., 1.],\n",
              "       [1., 1., 1., 1., 1., 1., 1.],\n",
              "       [1., 1., 1., 1., 1., 1., 1.],\n",
              "       [1., 1., 1., 1., 1., 1., 1.],\n",
              "       [1., 1., 1., 1., 1., 1., 1.],\n",
              "       [1., 1., 1., 1., 1., 1., 1.],\n",
              "       [1., 1., 1., 1., 1., 1., 1.],\n",
              "       [1., 1., 1., 1., 1., 1., 1.],\n",
              "       [1., 1., 1., 1., 1., 1., 1.],\n",
              "       [1., 1., 1., 1., 1., 1., 1.]], dtype=float32)>"
            ]
          },
          "metadata": {},
          "execution_count": 24
        }
      ]
    },
    {
      "cell_type": "code",
      "source": [
        "tf.zeros([5,1]) #tensor containing all zeroes"
      ],
      "metadata": {
        "colab": {
          "base_uri": "https://localhost:8080/"
        },
        "id": "7-RZqh5SmU2j",
        "outputId": "9030e445-281f-4917-9d88-433ba0f7f48c"
      },
      "execution_count": 25,
      "outputs": [
        {
          "output_type": "execute_result",
          "data": {
            "text/plain": [
              "<tf.Tensor: shape=(5, 1), dtype=float32, numpy=\n",
              "array([[0.],\n",
              "       [0.],\n",
              "       [0.],\n",
              "       [0.],\n",
              "       [0.]], dtype=float32)>"
            ]
          },
          "metadata": {},
          "execution_count": 25
        }
      ]
    },
    {
      "cell_type": "code",
      "source": [
        "#turning numpy arrays to tensors (diff b/w numpy arrays and tensors is that tensores can be run faster on gpu)\n",
        "import numpy as np\n",
        "numpy_A = np.arange(1, 25, dtype = np.int32) # creates numpy array from 1 to 25\n",
        "numpy_A\n",
        "#X = tf.constant(some_matrix) # capital for matrix or tensor\n",
        "#y = tf.constant(vector) # non captial for vector\n",
        "A =  tf.constant(numpy_A)\n",
        "A"
      ],
      "metadata": {
        "colab": {
          "base_uri": "https://localhost:8080/"
        },
        "id": "maQoNyLFmU5r",
        "outputId": "4ab6dc99-866c-470b-e62b-429da72dcf22"
      },
      "execution_count": 26,
      "outputs": [
        {
          "output_type": "execute_result",
          "data": {
            "text/plain": [
              "<tf.Tensor: shape=(24,), dtype=int32, numpy=\n",
              "array([ 1,  2,  3,  4,  5,  6,  7,  8,  9, 10, 11, 12, 13, 14, 15, 16, 17,\n",
              "       18, 19, 20, 21, 22, 23, 24], dtype=int32)>"
            ]
          },
          "metadata": {},
          "execution_count": 26
        }
      ]
    },
    {
      "cell_type": "code",
      "source": [
        "numpy_B = np.arange(1,25,dtype = np.int32)\n",
        "numpy_B\n",
        "B = tf.constant(numpy_B)\n",
        "B"
      ],
      "metadata": {
        "colab": {
          "base_uri": "https://localhost:8080/"
        },
        "id": "nrHeBpU1Zf6M",
        "outputId": "a6a1b8c7-5cd1-468d-f362-f0b2e77204d9"
      },
      "execution_count": 27,
      "outputs": [
        {
          "output_type": "execute_result",
          "data": {
            "text/plain": [
              "<tf.Tensor: shape=(24,), dtype=int32, numpy=\n",
              "array([ 1,  2,  3,  4,  5,  6,  7,  8,  9, 10, 11, 12, 13, 14, 15, 16, 17,\n",
              "       18, 19, 20, 21, 22, 23, 24], dtype=int32)>"
            ]
          },
          "metadata": {},
          "execution_count": 27
        }
      ]
    },
    {
      "cell_type": "code",
      "source": [
        "A =  tf.constant(numpy_A, shape=(4,2,3))#multiplication of 3 should be equal to no of elements\n",
        "A #In case of 3 dimensional tensor first tells no of tensors second no of elements vectically third tells us no of elements horizontally"
      ],
      "metadata": {
        "colab": {
          "base_uri": "https://localhost:8080/"
        },
        "id": "nRASZT87mU80",
        "outputId": "dd8fed83-93e5-4fdc-f045-ea8d7198e308"
      },
      "execution_count": 28,
      "outputs": [
        {
          "output_type": "execute_result",
          "data": {
            "text/plain": [
              "<tf.Tensor: shape=(4, 2, 3), dtype=int32, numpy=\n",
              "array([[[ 1,  2,  3],\n",
              "        [ 4,  5,  6]],\n",
              "\n",
              "       [[ 7,  8,  9],\n",
              "        [10, 11, 12]],\n",
              "\n",
              "       [[13, 14, 15],\n",
              "        [16, 17, 18]],\n",
              "\n",
              "       [[19, 20, 21],\n",
              "        [22, 23, 24]]], dtype=int32)>"
            ]
          },
          "metadata": {},
          "execution_count": 28
        }
      ]
    },
    {
      "cell_type": "code",
      "source": [
        "A.ndim"
      ],
      "metadata": {
        "colab": {
          "base_uri": "https://localhost:8080/"
        },
        "id": "TkS2BkJsUX6A",
        "outputId": "71de2db5-7fc4-4165-8a15-7ebda11d54ac"
      },
      "execution_count": 29,
      "outputs": [
        {
          "output_type": "execute_result",
          "data": {
            "text/plain": [
              "3"
            ]
          },
          "metadata": {},
          "execution_count": 29
        }
      ]
    },
    {
      "cell_type": "code",
      "source": [
        "B =  tf.constant(numpy_B, shape=(8,3))\n",
        "B"
      ],
      "metadata": {
        "colab": {
          "base_uri": "https://localhost:8080/"
        },
        "id": "R5kEE9CjZw4G",
        "outputId": "f7a566cf-d28c-4579-8db0-f9dbe96850cd"
      },
      "execution_count": 30,
      "outputs": [
        {
          "output_type": "execute_result",
          "data": {
            "text/plain": [
              "<tf.Tensor: shape=(8, 3), dtype=int32, numpy=\n",
              "array([[ 1,  2,  3],\n",
              "       [ 4,  5,  6],\n",
              "       [ 7,  8,  9],\n",
              "       [10, 11, 12],\n",
              "       [13, 14, 15],\n",
              "       [16, 17, 18],\n",
              "       [19, 20, 21],\n",
              "       [22, 23, 24]], dtype=int32)>"
            ]
          },
          "metadata": {},
          "execution_count": 30
        }
      ]
    },
    {
      "cell_type": "code",
      "source": [
        "#seeing a paticular dimension of a tensor\n",
        "A[0]"
      ],
      "metadata": {
        "colab": {
          "base_uri": "https://localhost:8080/"
        },
        "id": "EXrW1JHDaN95",
        "outputId": "64c089aa-79a8-4c81-eb58-f29a938934e0"
      },
      "execution_count": 31,
      "outputs": [
        {
          "output_type": "execute_result",
          "data": {
            "text/plain": [
              "<tf.Tensor: shape=(2, 3), dtype=int32, numpy=\n",
              "array([[1, 2, 3],\n",
              "       [4, 5, 6]], dtype=int32)>"
            ]
          },
          "metadata": {},
          "execution_count": 31
        }
      ]
    },
    {
      "cell_type": "code",
      "source": [
        "#getting info from tensors"
      ],
      "metadata": {
        "id": "nAatZiRVyufo"
      },
      "execution_count": 32,
      "outputs": []
    },
    {
      "cell_type": "code",
      "source": [
        "#creating a rank 4 tensor\n",
        "rank4_tensor = tf.zeros(shape=[2,3,4,5]) #two tensors having 3 sets each\n",
        "rank4_tensor\n"
      ],
      "metadata": {
        "colab": {
          "base_uri": "https://localhost:8080/"
        },
        "id": "j7u8bo9lassw",
        "outputId": "75be0de6-05d9-4a70-e398-8b3b12e1970c"
      },
      "execution_count": 33,
      "outputs": [
        {
          "output_type": "execute_result",
          "data": {
            "text/plain": [
              "<tf.Tensor: shape=(2, 3, 4, 5), dtype=float32, numpy=\n",
              "array([[[[0., 0., 0., 0., 0.],\n",
              "         [0., 0., 0., 0., 0.],\n",
              "         [0., 0., 0., 0., 0.],\n",
              "         [0., 0., 0., 0., 0.]],\n",
              "\n",
              "        [[0., 0., 0., 0., 0.],\n",
              "         [0., 0., 0., 0., 0.],\n",
              "         [0., 0., 0., 0., 0.],\n",
              "         [0., 0., 0., 0., 0.]],\n",
              "\n",
              "        [[0., 0., 0., 0., 0.],\n",
              "         [0., 0., 0., 0., 0.],\n",
              "         [0., 0., 0., 0., 0.],\n",
              "         [0., 0., 0., 0., 0.]]],\n",
              "\n",
              "\n",
              "       [[[0., 0., 0., 0., 0.],\n",
              "         [0., 0., 0., 0., 0.],\n",
              "         [0., 0., 0., 0., 0.],\n",
              "         [0., 0., 0., 0., 0.]],\n",
              "\n",
              "        [[0., 0., 0., 0., 0.],\n",
              "         [0., 0., 0., 0., 0.],\n",
              "         [0., 0., 0., 0., 0.],\n",
              "         [0., 0., 0., 0., 0.]],\n",
              "\n",
              "        [[0., 0., 0., 0., 0.],\n",
              "         [0., 0., 0., 0., 0.],\n",
              "         [0., 0., 0., 0., 0.],\n",
              "         [0., 0., 0., 0., 0.]]]], dtype=float32)>"
            ]
          },
          "metadata": {},
          "execution_count": 33
        }
      ]
    },
    {
      "cell_type": "code",
      "source": [
        "tf.size(rank4_tensor)"
      ],
      "metadata": {
        "colab": {
          "base_uri": "https://localhost:8080/"
        },
        "id": "Frdds9ZRyjIM",
        "outputId": "99f4cdfd-1388-43de-bde2-7dc3be0052e4"
      },
      "execution_count": 34,
      "outputs": [
        {
          "output_type": "execute_result",
          "data": {
            "text/plain": [
              "<tf.Tensor: shape=(), dtype=int32, numpy=120>"
            ]
          },
          "metadata": {},
          "execution_count": 34
        }
      ]
    },
    {
      "cell_type": "code",
      "source": [
        "#getting atributes from tensor\n",
        "print(\"Datatype of every element:\",rank4_tensor.dtype)\n",
        "print(\"Number of dimensions:\",rank4_tensor.ndim)\n",
        "print(\"Shape of tensor:\",rank4_tensor.shape)\n",
        "print(\"Elements along 0 axis:\",rank4_tensor.shape[0])\n",
        "print(\"Elements along last axis:\",rank4_tensor.shape[-1])\n",
        "print(\"Total no of elements in our tensor:\",tf.size(rank4_tensor)) #tensor form\n",
        "print(\"Total no of elements in our tensor:\",tf.size(rank4_tensor).numpy()) #using numpy to make it more readable"
      ],
      "metadata": {
        "id": "CCQ8BhVcmVAJ",
        "colab": {
          "base_uri": "https://localhost:8080/"
        },
        "outputId": "cb78564c-8896-4a40-80eb-897a6d35130a"
      },
      "execution_count": 35,
      "outputs": [
        {
          "output_type": "stream",
          "name": "stdout",
          "text": [
            "Datatype of every element: <dtype: 'float32'>\n",
            "Number of dimensions: 4\n",
            "Shape of tensor: (2, 3, 4, 5)\n",
            "Elements along 0 axis: 2\n",
            "Elements along last axis: 5\n",
            "Total no of elements in our tensor: tf.Tensor(120, shape=(), dtype=int32)\n",
            "Total no of elements in our tensor: 120\n"
          ]
        }
      ]
    },
    {
      "cell_type": "code",
      "source": [
        "#Indexign tensors\n",
        "#tensors can be indexed just like python lists"
      ],
      "metadata": {
        "id": "8PpEAI1xmVCx"
      },
      "execution_count": 36,
      "outputs": []
    },
    {
      "cell_type": "code",
      "source": [
        "list_1 = [1,2,3,4]\n",
        "list_1[:2]"
      ],
      "metadata": {
        "colab": {
          "base_uri": "https://localhost:8080/"
        },
        "id": "U19KPaQYYcSz",
        "outputId": "44e4d563-aa7c-4921-99ca-4ad31a1ebad1"
      },
      "execution_count": 37,
      "outputs": [
        {
          "output_type": "execute_result",
          "data": {
            "text/plain": [
              "[1, 2]"
            ]
          },
          "metadata": {},
          "execution_count": 37
        }
      ]
    },
    {
      "cell_type": "code",
      "source": [
        "#getting first 2 elements of each dimesion\n",
        "rank4_tensor[:2, :2, :2, :2]"
      ],
      "metadata": {
        "id": "SHQrXPnFmVGL",
        "colab": {
          "base_uri": "https://localhost:8080/"
        },
        "outputId": "4f058c5b-3aa5-4c47-edb1-27211b6658e0"
      },
      "execution_count": 38,
      "outputs": [
        {
          "output_type": "execute_result",
          "data": {
            "text/plain": [
              "<tf.Tensor: shape=(2, 2, 2, 2), dtype=float32, numpy=\n",
              "array([[[[0., 0.],\n",
              "         [0., 0.]],\n",
              "\n",
              "        [[0., 0.],\n",
              "         [0., 0.]]],\n",
              "\n",
              "\n",
              "       [[[0., 0.],\n",
              "         [0., 0.]],\n",
              "\n",
              "        [[0., 0.],\n",
              "         [0., 0.]]]], dtype=float32)>"
            ]
          },
          "metadata": {},
          "execution_count": 38
        }
      ]
    },
    {
      "cell_type": "code",
      "source": [
        "#get the first element from each dimension from each index except the final one\n",
        "rank4_tensor[:1,:1,:1,:]"
      ],
      "metadata": {
        "id": "wORWqKVDmVJk",
        "colab": {
          "base_uri": "https://localhost:8080/"
        },
        "outputId": "7b949a13-36a1-420b-f967-4927ba29db20"
      },
      "execution_count": 39,
      "outputs": [
        {
          "output_type": "execute_result",
          "data": {
            "text/plain": [
              "<tf.Tensor: shape=(1, 1, 1, 5), dtype=float32, numpy=array([[[[0., 0., 0., 0., 0.]]]], dtype=float32)>"
            ]
          },
          "metadata": {},
          "execution_count": 39
        }
      ]
    },
    {
      "cell_type": "code",
      "source": [
        "rank2_tensor = tf.constant([[10,7],\n",
        "                            [3,4]])\n",
        "rank2_tensor.shape, rank2_tensor.ndim,"
      ],
      "metadata": {
        "colab": {
          "base_uri": "https://localhost:8080/"
        },
        "id": "9waKKTZzfQSa",
        "outputId": "484bcb9b-8878-4b4f-e274-856120a5f0cd"
      },
      "execution_count": 40,
      "outputs": [
        {
          "output_type": "execute_result",
          "data": {
            "text/plain": [
              "(TensorShape([2, 2]), 2)"
            ]
          },
          "metadata": {},
          "execution_count": 40
        }
      ]
    },
    {
      "cell_type": "code",
      "source": [
        "#get the last item of each of the row of our rank 2 tensor\n",
        "rank2_tensor[:,-1]"
      ],
      "metadata": {
        "colab": {
          "base_uri": "https://localhost:8080/"
        },
        "id": "yijxMb4of64S",
        "outputId": "ab123dfc-bead-4935-d9d1-7fb49e9ffb21"
      },
      "execution_count": 41,
      "outputs": [
        {
          "output_type": "execute_result",
          "data": {
            "text/plain": [
              "<tf.Tensor: shape=(2,), dtype=int32, numpy=array([7, 4], dtype=int32)>"
            ]
          },
          "metadata": {},
          "execution_count": 41
        }
      ]
    },
    {
      "cell_type": "code",
      "source": [
        "#add in extra dimension to our rank 2 tensor\n",
        "rank3_tensor = rank2_tensor[...,tf.newaxis]\n",
        "rank3_tensor"
      ],
      "metadata": {
        "colab": {
          "base_uri": "https://localhost:8080/"
        },
        "id": "ixdIuAEuhOcm",
        "outputId": "86941a82-9425-4874-be00-eb01389100c3"
      },
      "execution_count": 42,
      "outputs": [
        {
          "output_type": "execute_result",
          "data": {
            "text/plain": [
              "<tf.Tensor: shape=(2, 2, 1), dtype=int32, numpy=\n",
              "array([[[10],\n",
              "        [ 7]],\n",
              "\n",
              "       [[ 3],\n",
              "        [ 4]]], dtype=int32)>"
            ]
          },
          "metadata": {},
          "execution_count": 42
        }
      ]
    },
    {
      "cell_type": "code",
      "source": [
        "#alternative to tf.newaxis\n",
        "tf.expand_dims(rank2_tensor,axis=0)#left ka first will be zero and baki will follow coordiante geometry like 0,-1,1 etc rightmost will be -1 or 2 and like for all elements"
      ],
      "metadata": {
        "colab": {
          "base_uri": "https://localhost:8080/"
        },
        "id": "cYITt0o5lWSi",
        "outputId": "55246c06-1186-4205-a152-55b73fbae622"
      },
      "execution_count": 43,
      "outputs": [
        {
          "output_type": "execute_result",
          "data": {
            "text/plain": [
              "<tf.Tensor: shape=(1, 2, 2), dtype=int32, numpy=\n",
              "array([[[10,  7],\n",
              "        [ 3,  4]]], dtype=int32)>"
            ]
          },
          "metadata": {},
          "execution_count": 43
        }
      ]
    },
    {
      "cell_type": "code",
      "source": [
        "#manipulating tensors (tensor operations)\n",
        "'''Using addition operator'''\n",
        "test_1_tensor = tf.constant([[10,7],\n",
        "                  [3,4]])\n",
        "test_1_tensor + 10"
      ],
      "metadata": {
        "colab": {
          "base_uri": "https://localhost:8080/"
        },
        "id": "560hR5DXm5YU",
        "outputId": "0559487d-64a6-4d30-fd93-46a249b85c5f"
      },
      "execution_count": 44,
      "outputs": [
        {
          "output_type": "execute_result",
          "data": {
            "text/plain": [
              "<tf.Tensor: shape=(2, 2), dtype=int32, numpy=\n",
              "array([[20, 17],\n",
              "       [13, 14]], dtype=int32)>"
            ]
          },
          "metadata": {},
          "execution_count": 44
        }
      ]
    },
    {
      "cell_type": "code",
      "source": [
        "test_1_tensor*10"
      ],
      "metadata": {
        "colab": {
          "base_uri": "https://localhost:8080/"
        },
        "id": "k1Zv6ww13WUU",
        "outputId": "58ea856e-c6cf-4fa3-c477-242b84deaebd"
      },
      "execution_count": 45,
      "outputs": [
        {
          "output_type": "execute_result",
          "data": {
            "text/plain": [
              "<tf.Tensor: shape=(2, 2), dtype=int32, numpy=\n",
              "array([[100,  70],\n",
              "       [ 30,  40]], dtype=int32)>"
            ]
          },
          "metadata": {},
          "execution_count": 45
        }
      ]
    },
    {
      "cell_type": "code",
      "source": [
        "test_1_tensor - 10"
      ],
      "metadata": {
        "colab": {
          "base_uri": "https://localhost:8080/"
        },
        "id": "eglwZKIv3rtw",
        "outputId": "bec8e7ff-082c-4741-e2b3-a0c45bd7cfcf"
      },
      "execution_count": 46,
      "outputs": [
        {
          "output_type": "execute_result",
          "data": {
            "text/plain": [
              "<tf.Tensor: shape=(2, 2), dtype=int32, numpy=\n",
              "array([[ 0, -3],\n",
              "       [-7, -6]], dtype=int32)>"
            ]
          },
          "metadata": {},
          "execution_count": 46
        }
      ]
    },
    {
      "cell_type": "code",
      "source": [
        "tf.multiply(test_1_tensor,9) #using a in built function"
      ],
      "metadata": {
        "colab": {
          "base_uri": "https://localhost:8080/"
        },
        "id": "hT6EA-jj3vf8",
        "outputId": "3263072a-03c6-4a58-e1c3-4b2396aa9911"
      },
      "execution_count": 47,
      "outputs": [
        {
          "output_type": "execute_result",
          "data": {
            "text/plain": [
              "<tf.Tensor: shape=(2, 2), dtype=int32, numpy=\n",
              "array([[90, 63],\n",
              "       [27, 36]], dtype=int32)>"
            ]
          },
          "metadata": {},
          "execution_count": 47
        }
      ]
    },
    {
      "cell_type": "code",
      "source": [
        "#matrix multiplication\n",
        "test_2_tensor = tf.constant([[8,2],\n",
        "                  [9,5]])\n",
        "\n",
        "tf.multiply(test_1_tensor,test_2_tensor) #this will straight away do dot product and not matrix producr\n",
        "#so to change that we use the below method\n",
        "tf.matmul(test_1_tensor,test_2_tensor)"
      ],
      "metadata": {
        "id": "Xx_Vs6RW42YL",
        "colab": {
          "base_uri": "https://localhost:8080/"
        },
        "outputId": "27412e85-cb2c-4530-9b56-89e30e6e9497"
      },
      "execution_count": 48,
      "outputs": [
        {
          "output_type": "execute_result",
          "data": {
            "text/plain": [
              "<tf.Tensor: shape=(2, 2), dtype=int32, numpy=\n",
              "array([[143,  55],\n",
              "       [ 60,  26]], dtype=int32)>"
            ]
          },
          "metadata": {},
          "execution_count": 48
        }
      ]
    },
    {
      "cell_type": "code",
      "source": [
        "test_1_tensor @ test_2_tensor # @ is python operator for matrix multiplication"
      ],
      "metadata": {
        "colab": {
          "base_uri": "https://localhost:8080/"
        },
        "id": "yOxjK1aYKp-d",
        "outputId": "fd8f45c8-2fcc-47bb-cfe2-77968617067e"
      },
      "execution_count": 49,
      "outputs": [
        {
          "output_type": "execute_result",
          "data": {
            "text/plain": [
              "<tf.Tensor: shape=(2, 2), dtype=int32, numpy=\n",
              "array([[143,  55],\n",
              "       [ 60,  26]], dtype=int32)>"
            ]
          },
          "metadata": {},
          "execution_count": 49
        }
      ]
    },
    {
      "cell_type": "code",
      "source": [
        "t_1 = tf.constant([[1,2,5],\n",
        "                [7,2,1],\n",
        "                [3,3,3]])\n",
        "\n",
        "t_2 = tf.constant([[3,5],\n",
        "                 [6,7],\n",
        "                 [1,8]])\n",
        "\n",
        "t_1 @ t_2"
      ],
      "metadata": {
        "colab": {
          "base_uri": "https://localhost:8080/"
        },
        "id": "oYX2d-c8Kq6W",
        "outputId": "b0806d3b-e327-4e85-b0a4-d86c178d749a"
      },
      "execution_count": 50,
      "outputs": [
        {
          "output_type": "execute_result",
          "data": {
            "text/plain": [
              "<tf.Tensor: shape=(3, 2), dtype=int32, numpy=\n",
              "array([[20, 59],\n",
              "       [34, 57],\n",
              "       [30, 60]], dtype=int32)>"
            ]
          },
          "metadata": {},
          "execution_count": 50
        }
      ]
    },
    {
      "cell_type": "code",
      "source": [
        "test_1_tensor.shape"
      ],
      "metadata": {
        "colab": {
          "base_uri": "https://localhost:8080/"
        },
        "id": "hOZPohfrDYkZ",
        "outputId": "3c5c8ab0-f0d3-4189-a701-42fd9975d379"
      },
      "execution_count": 51,
      "outputs": [
        {
          "output_type": "execute_result",
          "data": {
            "text/plain": [
              "TensorShape([2, 2])"
            ]
          },
          "metadata": {},
          "execution_count": 51
        }
      ]
    },
    {
      "cell_type": "code",
      "source": [
        "#reshaping of tensor\n",
        "Y = tf.constant([[7,8],\n",
        "                 [9,10],\n",
        "                 [11,12]])\n",
        "Y"
      ],
      "metadata": {
        "colab": {
          "base_uri": "https://localhost:8080/"
        },
        "id": "Uu9qfn0uFO_j",
        "outputId": "8b3cfba3-66f6-4337-cfcd-77a2b0ff81eb"
      },
      "execution_count": 52,
      "outputs": [
        {
          "output_type": "execute_result",
          "data": {
            "text/plain": [
              "<tf.Tensor: shape=(3, 2), dtype=int32, numpy=\n",
              "array([[ 7,  8],\n",
              "       [ 9, 10],\n",
              "       [11, 12]], dtype=int32)>"
            ]
          },
          "metadata": {},
          "execution_count": 52
        }
      ]
    },
    {
      "cell_type": "code",
      "source": [
        "tf.reshape(Y,shape=(2,3))"
      ],
      "metadata": {
        "colab": {
          "base_uri": "https://localhost:8080/"
        },
        "id": "OJly8yMZFYVj",
        "outputId": "d6aa2bcf-eca5-4de6-d544-8c3f8dd2d7e1"
      },
      "execution_count": 53,
      "outputs": [
        {
          "output_type": "execute_result",
          "data": {
            "text/plain": [
              "<tf.Tensor: shape=(2, 3), dtype=int32, numpy=\n",
              "array([[ 7,  8,  9],\n",
              "       [10, 11, 12]], dtype=int32)>"
            ]
          },
          "metadata": {},
          "execution_count": 53
        }
      ]
    },
    {
      "cell_type": "code",
      "source": [
        "#transposing a matrix\n",
        "tf.transpose(Y)"
      ],
      "metadata": {
        "colab": {
          "base_uri": "https://localhost:8080/"
        },
        "id": "13u_7X8MIkWx",
        "outputId": "9c7360de-11a6-4e58-f222-db9a24d2be56"
      },
      "execution_count": 54,
      "outputs": [
        {
          "output_type": "execute_result",
          "data": {
            "text/plain": [
              "<tf.Tensor: shape=(2, 3), dtype=int32, numpy=\n",
              "array([[ 7,  9, 11],\n",
              "       [ 8, 10, 12]], dtype=int32)>"
            ]
          },
          "metadata": {},
          "execution_count": 54
        }
      ]
    },
    {
      "cell_type": "code",
      "source": [
        "transposed_1 = tf.transpose(test_1_tensor)\n",
        "transposed_1"
      ],
      "metadata": {
        "colab": {
          "base_uri": "https://localhost:8080/"
        },
        "id": "uBxknjOLJDEn",
        "outputId": "6fefd7e5-39b8-46fa-938c-cafd55828f99"
      },
      "execution_count": 55,
      "outputs": [
        {
          "output_type": "execute_result",
          "data": {
            "text/plain": [
              "<tf.Tensor: shape=(2, 2), dtype=int32, numpy=\n",
              "array([[10,  3],\n",
              "       [ 7,  4]], dtype=int32)>"
            ]
          },
          "metadata": {},
          "execution_count": 55
        }
      ]
    },
    {
      "cell_type": "code",
      "source": [
        "tf.tensordot(t_1,t_2,axes=0)"
      ],
      "metadata": {
        "colab": {
          "base_uri": "https://localhost:8080/"
        },
        "id": "hl6ik4jSMNTx",
        "outputId": "c4ebea3b-53b0-4a48-b442-26ea1f171fc2"
      },
      "execution_count": 56,
      "outputs": [
        {
          "output_type": "execute_result",
          "data": {
            "text/plain": [
              "<tf.Tensor: shape=(3, 3, 3, 2), dtype=int32, numpy=\n",
              "array([[[[ 3,  5],\n",
              "         [ 6,  7],\n",
              "         [ 1,  8]],\n",
              "\n",
              "        [[ 6, 10],\n",
              "         [12, 14],\n",
              "         [ 2, 16]],\n",
              "\n",
              "        [[15, 25],\n",
              "         [30, 35],\n",
              "         [ 5, 40]]],\n",
              "\n",
              "\n",
              "       [[[21, 35],\n",
              "         [42, 49],\n",
              "         [ 7, 56]],\n",
              "\n",
              "        [[ 6, 10],\n",
              "         [12, 14],\n",
              "         [ 2, 16]],\n",
              "\n",
              "        [[ 3,  5],\n",
              "         [ 6,  7],\n",
              "         [ 1,  8]]],\n",
              "\n",
              "\n",
              "       [[[ 9, 15],\n",
              "         [18, 21],\n",
              "         [ 3, 24]],\n",
              "\n",
              "        [[ 9, 15],\n",
              "         [18, 21],\n",
              "         [ 3, 24]],\n",
              "\n",
              "        [[ 9, 15],\n",
              "         [18, 21],\n",
              "         [ 3, 24]]]], dtype=int32)>"
            ]
          },
          "metadata": {},
          "execution_count": 56
        }
      ]
    },
    {
      "cell_type": "code",
      "source": [
        "#changing datatype of a tensor\n",
        "'''creating a new tensor with default datatype(float32)'''\n",
        "B = tf.constant([1.7,7.4])\n",
        "B.dtype"
      ],
      "metadata": {
        "colab": {
          "base_uri": "https://localhost:8080/"
        },
        "id": "KgKmXHR1OAPx",
        "outputId": "06e2772c-bf6a-405a-ce3f-2607ce467092"
      },
      "execution_count": 57,
      "outputs": [
        {
          "output_type": "execute_result",
          "data": {
            "text/plain": [
              "tf.float32"
            ]
          },
          "metadata": {},
          "execution_count": 57
        }
      ]
    },
    {
      "cell_type": "code",
      "source": [
        "C = tf.constant([7,10])\n",
        "C.dtype"
      ],
      "metadata": {
        "colab": {
          "base_uri": "https://localhost:8080/"
        },
        "id": "2_rmAsTMSh3c",
        "outputId": "092d6dc7-c49b-49fa-f508-04918c294a5d"
      },
      "execution_count": 58,
      "outputs": [
        {
          "output_type": "execute_result",
          "data": {
            "text/plain": [
              "tf.int32"
            ]
          },
          "metadata": {},
          "execution_count": 58
        }
      ]
    },
    {
      "cell_type": "markdown",
      "source": [
        "Most models use the float32 dtype, which takes 32 bits of memory. However, there are two lower-precision dtypes, float16 and bfloat16, each which take 16 bits of memory instead. Modern accelerators can run operations faster in the 16-bit dtypes, as they have specialized hardware to run 16-bit computations and 16-bit dtypes can be read from memory faster.\n",
        "NVIDIA GPUs can run operations in float16 faster than in float32, and TPUs and supporting Intel CPUs can run operations in bfloat16 faster than float32"
      ],
      "metadata": {
        "id": "Y_XwbiJ8UUmH"
      }
    },
    {
      "cell_type": "markdown",
      "source": [
        "use of both 16-bit and 32-bit floating-point types in a model during training to make it run faster and use less memory. By keeping certain parts of the model in the 32-bit types for numeric stability, the model will have a lower step time and train equally as well in terms of the evaluation metrics such as accuracy."
      ],
      "metadata": {
        "id": "Ag6jjdmKVIU6"
      }
    },
    {
      "cell_type": "code",
      "source": [
        "#changing from float32 bit to float16\n",
        "B_new = tf.cast(B,dtype=tf.float16)\n",
        "B_new.dtype"
      ],
      "metadata": {
        "colab": {
          "base_uri": "https://localhost:8080/"
        },
        "id": "j-SHCfK-UcyJ",
        "outputId": "5a9a7b72-edab-4140-af30-b0702522ec43"
      },
      "execution_count": 59,
      "outputs": [
        {
          "output_type": "execute_result",
          "data": {
            "text/plain": [
              "tf.float16"
            ]
          },
          "metadata": {},
          "execution_count": 59
        }
      ]
    },
    {
      "cell_type": "code",
      "source": [
        "#changing from float32 to bflaot16\n",
        "B_new_2 = tf.cast(B,dtype=tf.bfloat16)\n",
        "B_new_2.dtype"
      ],
      "metadata": {
        "colab": {
          "base_uri": "https://localhost:8080/"
        },
        "id": "qiJoNyKGVkPP",
        "outputId": "a2db81a8-4126-4e21-fb91-8eeca414b090"
      },
      "execution_count": 60,
      "outputs": [
        {
          "output_type": "execute_result",
          "data": {
            "text/plain": [
              "tf.bfloat16"
            ]
          },
          "metadata": {},
          "execution_count": 60
        }
      ]
    },
    {
      "cell_type": "code",
      "source": [
        "#chaning from int32 to float32\n",
        "C_new = tf.cast(C,dtype=tf.float32)\n",
        "C_new.dtype"
      ],
      "metadata": {
        "colab": {
          "base_uri": "https://localhost:8080/"
        },
        "id": "aGX9W7HFVvis",
        "outputId": "0e6da2dd-faa0-4ce4-bdbc-2381e05e5f6b"
      },
      "execution_count": 61,
      "outputs": [
        {
          "output_type": "execute_result",
          "data": {
            "text/plain": [
              "tf.float32"
            ]
          },
          "metadata": {},
          "execution_count": 61
        }
      ]
    },
    {
      "cell_type": "code",
      "source": [
        "#chaning from int32 to float16\n",
        "C_new = tf.cast(C,dtype=tf.float16)\n",
        "C_new.dtype\n",
        "#and then we can similarly do it for bfloat16"
      ],
      "metadata": {
        "colab": {
          "base_uri": "https://localhost:8080/"
        },
        "id": "yoKEonMtWJuf",
        "outputId": "13c8254e-db06-49ff-c5a2-177f771d220a"
      },
      "execution_count": 62,
      "outputs": [
        {
          "output_type": "execute_result",
          "data": {
            "text/plain": [
              "tf.float16"
            ]
          },
          "metadata": {},
          "execution_count": 62
        }
      ]
    },
    {
      "cell_type": "code",
      "source": [
        "#aggregating tensors\n",
        "'''Aggregating tensors means combining multiple tensor values into a single result, typically using operations like sum, mean (average), max, or min.\n",
        "These operations reduce one or more dimensions of the tensor. It's often used in machine learning and deep learning when summarizing data'''"
      ],
      "metadata": {
        "colab": {
          "base_uri": "https://localhost:8080/",
          "height": 53
        },
        "id": "qu9ZetWYWfpR",
        "outputId": "69ec7fe4-5461-4243-d609-681f9d552c19"
      },
      "execution_count": 63,
      "outputs": [
        {
          "output_type": "execute_result",
          "data": {
            "text/plain": [
              "\"Aggregating tensors means combining multiple tensor values into a single result, typically using operations like sum, mean (average), max, or min.\\nThese operations reduce one or more dimensions of the tensor. It's often used in machine learning and deep learning when summarizing data\""
            ],
            "application/vnd.google.colaboratory.intrinsic+json": {
              "type": "string"
            }
          },
          "metadata": {},
          "execution_count": 63
        }
      ]
    },
    {
      "cell_type": "code",
      "source": [
        "D = tf.constant([-7,-10])\n",
        "D\n",
        "tf.abs(D)#gets the absolute value of tensors"
      ],
      "metadata": {
        "colab": {
          "base_uri": "https://localhost:8080/"
        },
        "id": "rbnwyMaoXAnD",
        "outputId": "9ffee3b5-2ef7-4577-8869-23641303e963"
      },
      "execution_count": 64,
      "outputs": [
        {
          "output_type": "execute_result",
          "data": {
            "text/plain": [
              "<tf.Tensor: shape=(2,), dtype=int32, numpy=array([ 7, 10], dtype=int32)>"
            ]
          },
          "metadata": {},
          "execution_count": 64
        }
      ]
    },
    {
      "cell_type": "code",
      "source": [
        "tf.abs(B)"
      ],
      "metadata": {
        "colab": {
          "base_uri": "https://localhost:8080/"
        },
        "id": "8qC8OJzdXbvk",
        "outputId": "f700ea58-37e7-4695-855f-b6cb7f5283b8"
      },
      "execution_count": 65,
      "outputs": [
        {
          "output_type": "execute_result",
          "data": {
            "text/plain": [
              "<tf.Tensor: shape=(2,), dtype=float32, numpy=array([1.7, 7.4], dtype=float32)>"
            ]
          },
          "metadata": {},
          "execution_count": 65
        }
      ]
    },
    {
      "cell_type": "code",
      "source": [
        "#Types of aggregation we will be going through\n",
        "'''Get the max\n",
        "   Get the min\n",
        "   Get the mean\n",
        "   Get the sum'''"
      ],
      "metadata": {
        "colab": {
          "base_uri": "https://localhost:8080/",
          "height": 36
        },
        "id": "k68VRF8cXjDx",
        "outputId": "72bc52e2-4815-4037-9b0d-1f18c7e9fc56"
      },
      "execution_count": 66,
      "outputs": [
        {
          "output_type": "execute_result",
          "data": {
            "text/plain": [
              "'Get the max\\n   Get the min\\n   Get the mean\\n   Get the sum'"
            ],
            "application/vnd.google.colaboratory.intrinsic+json": {
              "type": "string"
            }
          },
          "metadata": {},
          "execution_count": 66
        }
      ]
    },
    {
      "cell_type": "code",
      "source": [
        "#creating a random tensor with certain attributes\n",
        "E = tf.constant(np.random.randint(0,100,size=50))\n",
        "E"
      ],
      "metadata": {
        "colab": {
          "base_uri": "https://localhost:8080/"
        },
        "id": "4WNziBR0Xw0K",
        "outputId": "ce7475d3-ca06-469d-c1a9-d0ec979c295d"
      },
      "execution_count": 67,
      "outputs": [
        {
          "output_type": "execute_result",
          "data": {
            "text/plain": [
              "<tf.Tensor: shape=(50,), dtype=int64, numpy=\n",
              "array([97, 13, 72,  2, 31, 17, 57, 54, 24, 26, 12,  7, 65, 55,  1, 55, 87,\n",
              "       73, 37, 23, 32, 77, 40, 15, 66, 98, 98, 78, 44, 86, 58, 67, 38, 78,\n",
              "        6, 49,  4, 60, 97, 88, 20, 76, 35, 82, 22, 59, 24, 16, 72, 28])>"
            ]
          },
          "metadata": {},
          "execution_count": 67
        }
      ]
    },
    {
      "cell_type": "code",
      "source": [
        "#E = tf.cast(E,dtype=tf.float32)"
      ],
      "metadata": {
        "id": "kCfR-JCbaViJ"
      },
      "execution_count": 68,
      "outputs": []
    },
    {
      "cell_type": "code",
      "source": [
        "#finding the min\n",
        "print(tf.reduce_min(E))#finding though tensorflow\n",
        "print(np.min(E))#finding through numpy"
      ],
      "metadata": {
        "colab": {
          "base_uri": "https://localhost:8080/"
        },
        "id": "th8qb6mMYNCO",
        "outputId": "d4619252-46de-4a45-bfd6-a44c41dda21e"
      },
      "execution_count": 69,
      "outputs": [
        {
          "output_type": "stream",
          "name": "stdout",
          "text": [
            "tf.Tensor(1, shape=(), dtype=int64)\n",
            "1\n"
          ]
        }
      ]
    },
    {
      "cell_type": "code",
      "source": [
        "#finding the maximum\n",
        "print(tf.reduce_max(E))#same as above\n",
        "print(np.max(E))\n",
        "#here reduce essentially means reducing the tensor to its max value and min for the above one"
      ],
      "metadata": {
        "colab": {
          "base_uri": "https://localhost:8080/"
        },
        "id": "drty310LYjCA",
        "outputId": "10890d57-e58b-4538-e4a9-f850786a95b7"
      },
      "execution_count": 70,
      "outputs": [
        {
          "output_type": "stream",
          "name": "stdout",
          "text": [
            "tf.Tensor(98, shape=(), dtype=int64)\n",
            "98\n"
          ]
        }
      ]
    },
    {
      "cell_type": "code",
      "source": [
        "#finding the sum\n",
        "print(tf.reduce_sum(E))\n",
        "print(np.sum(E))"
      ],
      "metadata": {
        "colab": {
          "base_uri": "https://localhost:8080/"
        },
        "id": "lG9h4SWNY2gJ",
        "outputId": "0edbce55-0ac0-44d9-8cce-cfb6432a1291"
      },
      "execution_count": 71,
      "outputs": [
        {
          "output_type": "stream",
          "name": "stdout",
          "text": [
            "tf.Tensor(2421, shape=(), dtype=int64)\n",
            "2421\n"
          ]
        }
      ]
    },
    {
      "cell_type": "code",
      "source": [
        "#finding the mean\n",
        "#E = tf.cast(E,dtype=tf.int32)\n",
        "print(tf.reduce_mean(E))\n",
        "print(np.mean(E))"
      ],
      "metadata": {
        "colab": {
          "base_uri": "https://localhost:8080/"
        },
        "id": "0iGtiTRtZIVb",
        "outputId": "39f5aa62-5a1c-4795-a54a-8cd58c7ab270"
      },
      "execution_count": 72,
      "outputs": [
        {
          "output_type": "stream",
          "name": "stdout",
          "text": [
            "tf.Tensor(48, shape=(), dtype=int64)\n",
            "48.42\n"
          ]
        }
      ]
    },
    {
      "cell_type": "code",
      "source": [
        "#finding variance using tensorflow and numpy methods\n",
        "import tensorflow_probability as tfp\n",
        "var = tfp.stats.variance(E)\n",
        "print(tf.math.reduce_variance(tf.cast(E,dtype=tf.float32)))\n",
        "print(var)"
      ],
      "metadata": {
        "colab": {
          "base_uri": "https://localhost:8080/"
        },
        "id": "fhfh2Wjq1QhO",
        "outputId": "85f0ae9e-f714-496d-8bcb-ff29719db071"
      },
      "execution_count": 73,
      "outputs": [
        {
          "output_type": "stream",
          "name": "stdout",
          "text": [
            "tf.Tensor(854.1636, shape=(), dtype=float32)\n",
            "tf.Tensor(854, shape=(), dtype=int64)\n"
          ]
        }
      ]
    },
    {
      "cell_type": "code",
      "source": [
        "#standard deviation of our E tensor using tensorflow and numpy methods\n",
        "import math\n",
        "stnd_dev_mth = math.sqrt(var)\n",
        "print(stnd_dev_mth)\n",
        "\n",
        "print(tf.math.reduce_std(tf.cast(E,dtype = tf.float32)))#for complex no we will use complex32 or complex128"
      ],
      "metadata": {
        "colab": {
          "base_uri": "https://localhost:8080/"
        },
        "id": "TXQvgGb6cJOX",
        "outputId": "722b3e6c-7275-4848-ed3c-32e81edadf5a"
      },
      "execution_count": 74,
      "outputs": [
        {
          "output_type": "stream",
          "name": "stdout",
          "text": [
            "29.223278392404914\n",
            "tf.Tensor(29.226076, shape=(), dtype=float32)\n"
          ]
        }
      ]
    },
    {
      "cell_type": "code",
      "source": [
        "#positional maximum and minimum\n",
        "tf.random.set_seed(42)\n",
        "F = tf.random.uniform(shape=[50])\n",
        "F"
      ],
      "metadata": {
        "collapsed": true,
        "colab": {
          "base_uri": "https://localhost:8080/"
        },
        "id": "l4wvGqDOukcs",
        "outputId": "e5573d6d-70f6-480f-8918-6cd1f574fb1c"
      },
      "execution_count": 75,
      "outputs": [
        {
          "output_type": "execute_result",
          "data": {
            "text/plain": [
              "<tf.Tensor: shape=(50,), dtype=float32, numpy=\n",
              "array([0.6645621 , 0.44100678, 0.3528825 , 0.46448255, 0.03366041,\n",
              "       0.68467236, 0.74011743, 0.8724445 , 0.22632635, 0.22319686,\n",
              "       0.3103881 , 0.7223358 , 0.13318717, 0.5480639 , 0.5746088 ,\n",
              "       0.8996835 , 0.00946367, 0.5212307 , 0.6345445 , 0.1993283 ,\n",
              "       0.72942245, 0.54583454, 0.10756552, 0.6767061 , 0.6602763 ,\n",
              "       0.33695042, 0.60141766, 0.21062577, 0.8527372 , 0.44062173,\n",
              "       0.9485276 , 0.23752594, 0.81179297, 0.5263394 , 0.494308  ,\n",
              "       0.21612847, 0.8457197 , 0.8718841 , 0.3083862 , 0.6868038 ,\n",
              "       0.23764038, 0.7817228 , 0.9671384 , 0.06870162, 0.79873943,\n",
              "       0.66028714, 0.5871513 , 0.16461694, 0.7381023 , 0.32054043],\n",
              "      dtype=float32)>"
            ]
          },
          "metadata": {},
          "execution_count": 75
        }
      ]
    },
    {
      "cell_type": "code",
      "source": [
        "tf.math.argmax(F)#it will tell the postion of postional maximum"
      ],
      "metadata": {
        "colab": {
          "base_uri": "https://localhost:8080/"
        },
        "collapsed": true,
        "id": "MerneMDmuwyf",
        "outputId": "9b0291d5-720a-4752-ae27-32b060dd661a"
      },
      "execution_count": 76,
      "outputs": [
        {
          "output_type": "execute_result",
          "data": {
            "text/plain": [
              "<tf.Tensor: shape=(), dtype=int64, numpy=42>"
            ]
          },
          "metadata": {},
          "execution_count": 76
        }
      ]
    },
    {
      "cell_type": "code",
      "source": [
        "F[tf.argmax(F)]#will return the max value"
      ],
      "metadata": {
        "colab": {
          "base_uri": "https://localhost:8080/"
        },
        "id": "X7PZAp_rvbJt",
        "outputId": "15054d35-20b7-4124-f9ea-64bb10ee7469"
      },
      "execution_count": 77,
      "outputs": [
        {
          "output_type": "execute_result",
          "data": {
            "text/plain": [
              "<tf.Tensor: shape=(), dtype=float32, numpy=0.967138409614563>"
            ]
          },
          "metadata": {},
          "execution_count": 77
        }
      ]
    },
    {
      "cell_type": "code",
      "source": [
        "tf.reduce_max(F)"
      ],
      "metadata": {
        "colab": {
          "base_uri": "https://localhost:8080/"
        },
        "id": "xuON4vpLwhL_",
        "outputId": "1c5504d1-23b5-43fc-ab11-1432b3042d27"
      },
      "execution_count": 78,
      "outputs": [
        {
          "output_type": "execute_result",
          "data": {
            "text/plain": [
              "<tf.Tensor: shape=(), dtype=float32, numpy=0.967138409614563>"
            ]
          },
          "metadata": {},
          "execution_count": 78
        }
      ]
    },
    {
      "cell_type": "code",
      "source": [
        "tf.argmin(F)"
      ],
      "metadata": {
        "colab": {
          "base_uri": "https://localhost:8080/"
        },
        "id": "5PtvAyoiWQQg",
        "outputId": "c794d777-efa5-425e-b953-8d058a90102c"
      },
      "execution_count": 79,
      "outputs": [
        {
          "output_type": "execute_result",
          "data": {
            "text/plain": [
              "<tf.Tensor: shape=(), dtype=int64, numpy=16>"
            ]
          },
          "metadata": {},
          "execution_count": 79
        }
      ]
    },
    {
      "cell_type": "code",
      "source": [
        "F[tf.argmin(F)]"
      ],
      "metadata": {
        "colab": {
          "base_uri": "https://localhost:8080/"
        },
        "id": "-_YG7djKY3yC",
        "outputId": "a5d73322-d052-411a-c8e5-139e2d23d7ed"
      },
      "execution_count": 80,
      "outputs": [
        {
          "output_type": "execute_result",
          "data": {
            "text/plain": [
              "<tf.Tensor: shape=(), dtype=float32, numpy=0.009463667869567871>"
            ]
          },
          "metadata": {},
          "execution_count": 80
        }
      ]
    },
    {
      "cell_type": "code",
      "source": [
        "#Squeezing a new tensor(removing all single dimensions)\n",
        "G = tf.constant(tf.random.uniform(shape=[50]),shape=(1,1,1,1,50))\n",
        "G"
      ],
      "metadata": {
        "colab": {
          "base_uri": "https://localhost:8080/"
        },
        "id": "kfYmEA7bY69M",
        "outputId": "3ec894bb-96c8-45e8-8f07-74554b5f75e5"
      },
      "execution_count": 81,
      "outputs": [
        {
          "output_type": "execute_result",
          "data": {
            "text/plain": [
              "<tf.Tensor: shape=(1, 1, 1, 1, 50), dtype=float32, numpy=\n",
              "array([[[[[0.68789124, 0.48447883, 0.9309944 , 0.252187  , 0.73115396,\n",
              "           0.89256823, 0.94674826, 0.7493341 , 0.34925628, 0.54718256,\n",
              "           0.26160395, 0.69734323, 0.11962581, 0.53484344, 0.7148968 ,\n",
              "           0.87501776, 0.33967495, 0.17377627, 0.4418521 , 0.9008261 ,\n",
              "           0.13803864, 0.12217975, 0.5754491 , 0.9417181 , 0.9186585 ,\n",
              "           0.59708476, 0.6109482 , 0.82086265, 0.83269787, 0.8915849 ,\n",
              "           0.01377225, 0.49807465, 0.57503664, 0.6856195 , 0.75972784,\n",
              "           0.908944  , 0.40900218, 0.8765154 , 0.53890026, 0.42733097,\n",
              "           0.401173  , 0.66623247, 0.16348064, 0.18220246, 0.97040176,\n",
              "           0.06139731, 0.53034747, 0.9869994 , 0.4746945 , 0.8646754 ]]]]],\n",
              "      dtype=float32)>"
            ]
          },
          "metadata": {},
          "execution_count": 81
        }
      ]
    },
    {
      "cell_type": "code",
      "source": [
        "G_squeezed = tf.squeeze(G)\n",
        "G_squeezed.shape"
      ],
      "metadata": {
        "colab": {
          "base_uri": "https://localhost:8080/"
        },
        "id": "L4KLgA6G1cmB",
        "outputId": "f4e7b931-8f46-4a50-e40e-7f5ae7ba14b0"
      },
      "execution_count": 82,
      "outputs": [
        {
          "output_type": "execute_result",
          "data": {
            "text/plain": [
              "TensorShape([50])"
            ]
          },
          "metadata": {},
          "execution_count": 82
        }
      ]
    },
    {
      "cell_type": "code",
      "source": [
        "#expanding dimensions\n",
        "G_expanded = tf.expand_dims(G,axis=0)\n",
        "G_expanded"
      ],
      "metadata": {
        "id": "y8JDJot8YODA",
        "colab": {
          "base_uri": "https://localhost:8080/"
        },
        "outputId": "ab7dc048-8c0e-4c23-a57b-ec66a8fefd63"
      },
      "execution_count": 83,
      "outputs": [
        {
          "output_type": "execute_result",
          "data": {
            "text/plain": [
              "<tf.Tensor: shape=(1, 1, 1, 1, 1, 50), dtype=float32, numpy=\n",
              "array([[[[[[0.68789124, 0.48447883, 0.9309944 , 0.252187  ,\n",
              "            0.73115396, 0.89256823, 0.94674826, 0.7493341 ,\n",
              "            0.34925628, 0.54718256, 0.26160395, 0.69734323,\n",
              "            0.11962581, 0.53484344, 0.7148968 , 0.87501776,\n",
              "            0.33967495, 0.17377627, 0.4418521 , 0.9008261 ,\n",
              "            0.13803864, 0.12217975, 0.5754491 , 0.9417181 ,\n",
              "            0.9186585 , 0.59708476, 0.6109482 , 0.82086265,\n",
              "            0.83269787, 0.8915849 , 0.01377225, 0.49807465,\n",
              "            0.57503664, 0.6856195 , 0.75972784, 0.908944  ,\n",
              "            0.40900218, 0.8765154 , 0.53890026, 0.42733097,\n",
              "            0.401173  , 0.66623247, 0.16348064, 0.18220246,\n",
              "            0.97040176, 0.06139731, 0.53034747, 0.9869994 ,\n",
              "            0.4746945 , 0.8646754 ]]]]]], dtype=float32)>"
            ]
          },
          "metadata": {},
          "execution_count": 83
        }
      ]
    },
    {
      "cell_type": "markdown",
      "source": [
        "One Hot Encoding Vs Label Encoding\n",
        "**One hot** mai har ek sample ko 0,1 ke through vector mai fit karte hai so fo r each sample there will be 0,1 value this is its diadvantage because it if we a dataset of 100 elements we would have to indivisualy put the values\n",
        "**Label Encoding** we simply assign numbers a the places of these categories.Here the disadvantage is that if we assign 0,1,2 then 2 will have priority over 1,1 over 0 and so on which should not occur\n",
        "Example === If we have to categories students into arts,commerce or science\n",
        "the for one hot encoding we will have to![Screenshot 2025-07-13 195320.png](data:image/png;base64,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)\n",
        "\n",
        "\n",
        "\n",
        "and for label encoding let art = 0,commerce = 1 and arts = 2\n",
        "\n",
        "![image.png](data:image/png;base64,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)"
      ],
      "metadata": {
        "id": "ndr4fNCWBQlf"
      }
    },
    {
      "cell_type": "code",
      "source": [
        "#one hot coding tensor\n",
        "#creating a list of indices\n",
        "list_2 = [0,1,3,4] #let them be different colour\n",
        "tf.one_hot(list_2,depth = 4)\n",
        "#depth changes no of elements horizontally"
      ],
      "metadata": {
        "colab": {
          "base_uri": "https://localhost:8080/"
        },
        "id": "XilfAftJ5660",
        "outputId": "583cdaee-a632-4251-98c1-7ccd6ea85cb5"
      },
      "execution_count": 84,
      "outputs": [
        {
          "output_type": "execute_result",
          "data": {
            "text/plain": [
              "<tf.Tensor: shape=(4, 4), dtype=float32, numpy=\n",
              "array([[1., 0., 0., 0.],\n",
              "       [0., 1., 0., 0.],\n",
              "       [0., 0., 0., 1.],\n",
              "       [0., 0., 0., 0.]], dtype=float32)>"
            ]
          },
          "metadata": {},
          "execution_count": 84
        }
      ]
    },
    {
      "cell_type": "code",
      "source": [
        "#specify custom values for one hot encoding\n",
        "tf.one_hot(list_2, depth=4, on_value='black', off_value='white')"
      ],
      "metadata": {
        "colab": {
          "base_uri": "https://localhost:8080/"
        },
        "id": "TyvM_BkeN0LY",
        "outputId": "93b500c5-56df-46c0-ebfd-930dcfbd1224"
      },
      "execution_count": 85,
      "outputs": [
        {
          "output_type": "execute_result",
          "data": {
            "text/plain": [
              "<tf.Tensor: shape=(4, 4), dtype=string, numpy=\n",
              "array([[b'black', b'white', b'white', b'white'],\n",
              "       [b'white', b'black', b'white', b'white'],\n",
              "       [b'white', b'white', b'white', b'black'],\n",
              "       [b'white', b'white', b'white', b'white']], dtype=object)>"
            ]
          },
          "metadata": {},
          "execution_count": 85
        }
      ]
    },
    {
      "cell_type": "code",
      "source": [
        "#math operations\n",
        "H = tf.range(1,10)\n",
        "H"
      ],
      "metadata": {
        "colab": {
          "base_uri": "https://localhost:8080/"
        },
        "id": "KYP-YDLqOyV8",
        "outputId": "a1c903ef-62c8-4573-c83c-155cc4928c87"
      },
      "execution_count": 86,
      "outputs": [
        {
          "output_type": "execute_result",
          "data": {
            "text/plain": [
              "<tf.Tensor: shape=(9,), dtype=int32, numpy=array([1, 2, 3, 4, 5, 6, 7, 8, 9], dtype=int32)>"
            ]
          },
          "metadata": {},
          "execution_count": 86
        }
      ]
    },
    {
      "cell_type": "code",
      "source": [
        "tf.square(H)"
      ],
      "metadata": {
        "colab": {
          "base_uri": "https://localhost:8080/"
        },
        "id": "NSTOFGzAO9nR",
        "outputId": "9a7b72a5-ee72-4079-b066-45f82d9c644d"
      },
      "execution_count": 87,
      "outputs": [
        {
          "output_type": "execute_result",
          "data": {
            "text/plain": [
              "<tf.Tensor: shape=(9,), dtype=int32, numpy=array([ 1,  4,  9, 16, 25, 36, 49, 64, 81], dtype=int32)>"
            ]
          },
          "metadata": {},
          "execution_count": 87
        }
      ]
    },
    {
      "cell_type": "code",
      "source": [
        "#we will get error for sqrt and log unless we use float dtype because this method required non-int type"
      ],
      "metadata": {
        "id": "qQvJ5QnjQnDH"
      },
      "execution_count": 88,
      "outputs": []
    },
    {
      "cell_type": "code",
      "source": [
        "tf.sqrt(tf.cast(H,dtype=tf.float32))"
      ],
      "metadata": {
        "colab": {
          "base_uri": "https://localhost:8080/"
        },
        "id": "4wh4sJT6PCBD",
        "outputId": "72c3fc91-81af-47e5-b820-f989f97c1110"
      },
      "execution_count": 89,
      "outputs": [
        {
          "output_type": "execute_result",
          "data": {
            "text/plain": [
              "<tf.Tensor: shape=(9,), dtype=float32, numpy=\n",
              "array([1.       , 1.4142135, 1.7320508, 2.       , 2.236068 , 2.4494898,\n",
              "       2.6457512, 2.828427 , 3.       ], dtype=float32)>"
            ]
          },
          "metadata": {},
          "execution_count": 89
        }
      ]
    },
    {
      "cell_type": "code",
      "source": [
        "tf.math.log(tf.cast(H,dtype=tf.float32))"
      ],
      "metadata": {
        "colab": {
          "base_uri": "https://localhost:8080/"
        },
        "id": "auc35GB1QZic",
        "outputId": "4974f78d-f829-4dff-c032-def3c999292f"
      },
      "execution_count": 90,
      "outputs": [
        {
          "output_type": "execute_result",
          "data": {
            "text/plain": [
              "<tf.Tensor: shape=(9,), dtype=float32, numpy=\n",
              "array([0.       , 0.6931472, 1.0986123, 1.3862944, 1.609438 , 1.7917595,\n",
              "       1.9459102, 2.0794415, 2.1972246], dtype=float32)>"
            ]
          },
          "metadata": {},
          "execution_count": 90
        }
      ]
    },
    {
      "cell_type": "code",
      "source": [
        "#tensors and numpy"
      ],
      "metadata": {
        "id": "rL86CYMwbWPE"
      },
      "execution_count": 91,
      "outputs": []
    },
    {
      "cell_type": "code",
      "source": [
        "#creating a tensor directly by using numpy\n",
        "J = tf.constant(np.array([3.,7.,10.]))\n",
        "J"
      ],
      "metadata": {
        "colab": {
          "base_uri": "https://localhost:8080/"
        },
        "id": "yxE4lmyRe04q",
        "outputId": "c80808de-3d16-4635-c59c-ad12c2b1b729"
      },
      "execution_count": 92,
      "outputs": [
        {
          "output_type": "execute_result",
          "data": {
            "text/plain": [
              "<tf.Tensor: shape=(3,), dtype=float64, numpy=array([ 3.,  7., 10.])>"
            ]
          },
          "metadata": {},
          "execution_count": 92
        }
      ]
    },
    {
      "cell_type": "code",
      "source": [
        "#convert our tensor back to numpy array\n",
        "np.array(J), type(np.array(J))"
      ],
      "metadata": {
        "colab": {
          "base_uri": "https://localhost:8080/"
        },
        "id": "QA0rR2vXfT42",
        "outputId": "d80dd3ba-df9d-42ba-ac9a-536acfb05a7d"
      },
      "execution_count": 93,
      "outputs": [
        {
          "output_type": "execute_result",
          "data": {
            "text/plain": [
              "(array([ 3.,  7., 10.]), numpy.ndarray)"
            ]
          },
          "metadata": {},
          "execution_count": 93
        }
      ]
    },
    {
      "cell_type": "code",
      "source": [
        "#convert tensor J to numpy array (another method)\n",
        "J.numpy(), type(J.numpy())"
      ],
      "metadata": {
        "id": "cMw8ypE0fiov",
        "colab": {
          "base_uri": "https://localhost:8080/"
        },
        "outputId": "d096ddd8-23b4-4f61-fd87-d47a2f8de6bd"
      },
      "execution_count": 94,
      "outputs": [
        {
          "output_type": "execute_result",
          "data": {
            "text/plain": [
              "(array([ 3.,  7., 10.]), numpy.ndarray)"
            ]
          },
          "metadata": {},
          "execution_count": 94
        }
      ]
    },
    {
      "cell_type": "code",
      "source": [
        "#3rd method\n",
        "J_test = tf.constant([3.0])\n",
        "J_test.numpy()"
      ],
      "metadata": {
        "id": "CPVq9PoZwS3r",
        "colab": {
          "base_uri": "https://localhost:8080/"
        },
        "outputId": "d48b9e11-150c-4082-a16a-1a1f97bc279c"
      },
      "execution_count": 95,
      "outputs": [
        {
          "output_type": "execute_result",
          "data": {
            "text/plain": [
              "array([3.], dtype=float32)"
            ]
          },
          "metadata": {},
          "execution_count": 95
        }
      ]
    },
    {
      "cell_type": "code",
      "source": [
        "J.numpy()[2]"
      ],
      "metadata": {
        "colab": {
          "base_uri": "https://localhost:8080/"
        },
        "id": "EGFYDRl6SZWs",
        "outputId": "a2a188d4-3145-410b-e9ca-b3886d6401e5"
      },
      "execution_count": 96,
      "outputs": [
        {
          "output_type": "execute_result",
          "data": {
            "text/plain": [
              "np.float64(10.0)"
            ]
          },
          "metadata": {},
          "execution_count": 96
        }
      ]
    },
    {
      "cell_type": "code",
      "source": [
        "#the default datatype will be different for each\n",
        "numpy_J = tf.constant(np.array([3.0,7.0,9.0]))\n",
        "tensor_J = tf.constant([3.0,7.0,9.0])\n",
        "numpy_J.dtype, tensor_J.dtype"
      ],
      "metadata": {
        "colab": {
          "base_uri": "https://localhost:8080/"
        },
        "id": "zTJdFs6uWeWD",
        "outputId": "ea7dc534-2a97-4d63-85c4-081ee25e3751"
      },
      "execution_count": 97,
      "outputs": [
        {
          "output_type": "execute_result",
          "data": {
            "text/plain": [
              "(tf.float64, tf.float32)"
            ]
          },
          "metadata": {},
          "execution_count": 97
        }
      ]
    },
    {
      "cell_type": "code",
      "source": [],
      "metadata": {
        "id": "Hojwl-rVWkEd"
      },
      "execution_count": 97,
      "outputs": []
    },
    {
      "cell_type": "code",
      "source": [
        "!pip install  -U kaleido"
      ],
      "metadata": {
        "colab": {
          "base_uri": "https://localhost:8080/"
        },
        "id": "cF_-LDo__OZq",
        "outputId": "33b3506b-2c27-4cb9-b236-38d3b29cdcd6"
      },
      "execution_count": 98,
      "outputs": [
        {
          "output_type": "stream",
          "name": "stdout",
          "text": [
            "Requirement already satisfied: kaleido in /usr/local/lib/python3.11/dist-packages (1.0.0)\n",
            "Requirement already satisfied: choreographer>=1.0.5 in /usr/local/lib/python3.11/dist-packages (from kaleido) (1.0.9)\n",
            "Requirement already satisfied: logistro>=1.0.8 in /usr/local/lib/python3.11/dist-packages (from kaleido) (1.1.0)\n",
            "Requirement already satisfied: orjson>=3.10.15 in /usr/local/lib/python3.11/dist-packages (from kaleido) (3.11.0)\n",
            "Requirement already satisfied: packaging in /usr/local/lib/python3.11/dist-packages (from kaleido) (25.0)\n",
            "Requirement already satisfied: simplejson>=3.19.3 in /usr/local/lib/python3.11/dist-packages (from choreographer>=1.0.5->kaleido) (3.20.1)\n"
          ]
        }
      ]
    },
    {
      "cell_type": "code",
      "source": [],
      "metadata": {
        "id": "RTCBGq3IApXg"
      },
      "execution_count": 99,
      "outputs": []
    }
  ]
}